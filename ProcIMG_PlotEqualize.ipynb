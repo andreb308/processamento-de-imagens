{
  "cells": [
    {
      "cell_type": "code",
      "execution_count": 13,
      "metadata": {
        "colab": {
          "base_uri": "https://localhost:8080/"
        },
        "collapsed": true,
        "id": "AhdGQOuTsRJ6",
        "outputId": "08ad54bd-d5da-4b0c-8969-9fbd55d0e884"
      },
      "outputs": [],
      "source": [
        "# !pip install -U scikit-image\n",
        "# !pip install -U scikit-image[data]24h of cats"
      ]
    },
    {
      "cell_type": "code",
      "execution_count": 14,
      "metadata": {
        "colab": {
          "base_uri": "https://localhost:8080/"
        },
        "id": "anAFG6gqFIHX",
        "outputId": "16a938c7-e6b4-4b46-f11a-7e51f9635c46"
      },
      "outputs": [],
      "source": [
        "# from google.colab import drive\n",
        "# drive.mount('/content/drive/')"
      ]
    },
    {
      "cell_type": "code",
      "execution_count": 15,
      "metadata": {
        "colab": {
          "base_uri": "https://localhost:8080/"
        },
        "id": "564xC5HdFJqu",
        "outputId": "3b77b2eb-3d2c-43de-ceb0-678ba4e33c8d"
      },
      "outputs": [],
      "source": [
        "# cd 'drive/MyDrive/ProcIMG'"
      ]
    },
    {
      "cell_type": "code",
      "execution_count": null,
      "metadata": {
        "colab": {
          "base_uri": "https://localhost:8080/",
          "height": 1000
        },
        "collapsed": true,
        "id": "_BaBiIdvsoTR",
        "outputId": "bb01904c-1a8e-4e9b-ed5e-266d408173a9"
      },
      "outputs": [
        {
          "data": {
            "text/plain": [
              "<Figure size 640x480 with 0 Axes>"
            ]
          },
          "metadata": {},
          "output_type": "display_data"
        }
      ],
      "source": [
        "import matplotlib.pyplot as plt\n",
        "import numpy as np\n",
        "import os\n",
        "from skimage import io, color, util\n",
        "from skimage.exposure import equalize_hist\n",
        "\n",
        "# Salvando os nomes de cada arquivo de imagem em uma lista\n",
        "image_files = [f for f in os.listdir('./images') if os.path.isfile(os.path.join('./images', f))]\n",
        "fig, axes = plt.subplots(4, 4, figsize=(16, 16))\n",
        "\n",
        "for idx, filename in enumerate(image_files):\n",
        "    filepath = os.path.join('./images', filename)\n",
        "    image = io.imread(filepath)\n",
        "    grayscale_img = color.rgb2gray(image)\n",
        "    equalized_img = equalize_hist(grayscale_img)\n",
        "    \n",
        "    \n",
        "    # plotando a imagem\n",
        "    ax = axes[idx // 4, idx % 4]\n",
        "    ax.imshow(grayscale_img, cmap='gray')\n",
        "    ax.set_title(filename)\n",
        "    ax.axis('off')\n",
        "\n",
        "plt.tight_layout()\n",
        "plt.show()\n"
      ]
    }
  ],
  "metadata": {
    "colab": {
      "provenance": []
    },
    "kernelspec": {
      "display_name": "Python 3",
      "name": "python3"
    },
    "language_info": {
      "codemirror_mode": {
        "name": "ipython",
        "version": 3
      },
      "file_extension": ".py",
      "mimetype": "text/x-python",
      "name": "python",
      "nbconvert_exporter": "python",
      "pygments_lexer": "ipython3",
      "version": "3.13.7"
    }
  },
  "nbformat": 4,
  "nbformat_minor": 0
}
